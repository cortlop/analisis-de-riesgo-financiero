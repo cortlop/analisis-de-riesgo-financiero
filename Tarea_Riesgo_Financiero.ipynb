{
  "nbformat": 4,
  "nbformat_minor": 0,
  "metadata": {
    "colab": {
      "provenance": [],
      "include_colab_link": true
    },
    "kernelspec": {
      "name": "python3",
      "display_name": "Python 3"
    },
    "language_info": {
      "name": "python"
    }
  },
  "cells": [
    {
      "cell_type": "markdown",
      "metadata": {
        "id": "view-in-github",
        "colab_type": "text"
      },
      "source": [
        "<a href=\"https://colab.research.google.com/github/cortlop/analisis-de-riesgo-financiero/blob/main/Tarea_Riesgo_Financiero.ipynb\" target=\"_parent\"><img src=\"https://colab.research.google.com/assets/colab-badge.svg\" alt=\"Open In Colab\"/></a>"
      ]
    },
    {
      "cell_type": "markdown",
      "source": [
        "## Descripción del sector\n",
        "Se define un sector con precisión y sin ambigüedades. Hay referencia a artículos científicos que caracterizan el sector.\n",
        "\n"
      ],
      "metadata": {
        "id": "ySgJtrbEZo-L"
      }
    },
    {
      "cell_type": "markdown",
      "source": [
        "## Motivación\n",
        "Se describe una motivación acorde con la temática que justifica la elección. Hay referencia a argumentos que motivan el estudio del sector en la literatura.\n",
        "\n",
        "Se hace referencia a argumentos presentados en el foro de expectativas por los integrantes del grupo."
      ],
      "metadata": {
        "id": "-FrHmyeUZ9HN"
      }
    },
    {
      "cell_type": "markdown",
      "source": [
        "# Contexto\n",
        "Se definen mínimo 3 variables/activos y se describe(n) (estadísticamente) junto con la relación de esta(s) con la temática/sector elegido.\n",
        "\n"
      ],
      "metadata": {
        "id": "W3SdPx3KaDA7"
      }
    },
    {
      "cell_type": "code",
      "source": [
        "# Ingesta Datos y estadistica descriptiva\n",
        "\n",
        "import pandas as pd\n",
        "import requests\n",
        "\n",
        "def informacion (simbolo): #Función de llamado de API, devuelve los datos\n",
        "    symbol = simbolo\n",
        "    apikey = 'BUSCAR APIKEY EN LA PAGINA DE ALPHAVANTAGE'\n",
        "    url = f\"https://www.alphavantage.co/query?function=TIME_SERIES_DAILY&symbol={symbol}&outputsize=full&apikey={apikey}&datatype=json\"\n",
        "    response = requests.get(url).json()['Time Series (Daily)']#Cambiando Time Series escogen el tipo de serie que necesitan, diaria, mensual, anual, etc.\n",
        "    return pd.DataFrame.from_dict(response)\n",
        "\n",
        "sigla = 'COLOCAR SIGLA DE ACTIVO ESTUDIADO'\n",
        "\n",
        "Datos = informacion(sigla)\n",
        "\n",
        "\n",
        "keys = list(Datos.keys())\n",
        "filteredKeys = []\n",
        "\n",
        "year_range=[2015, 2022] #Creación del rango de años a utilizar\n",
        "years = []\n",
        "for y in range(year_range[0], year_range[1]+1):\n",
        "    years.append(y)\n",
        "\n",
        "\n",
        "for key in keys: #Filtrar llaves según años que se quieren calcular\n",
        "    if int(key[:4]) >= years[0] and int(key[:4]) <= years[-1]:\n",
        "        filteredKeys.append(key)\n",
        "\n",
        "\n",
        "data = pd.DataFrame()\n",
        "\n",
        "\n",
        "\n",
        "for key in filteredKeys: #Crear un Dataframe con toda la informacio4n que se utilizará\n",
        "    for year in years:\n",
        "        if int(key[:4]) == year:\n",
        "            data[key] = Datos[key]\n",
        "\n",
        "\n",
        "\n",
        "data = data.transpose()\n",
        "print(data)\n"
      ],
      "metadata": {
        "id": "mh1MlFvjaexK",
        "colab": {
          "base_uri": "https://localhost:8080/",
          "height": 357
        },
        "outputId": "708196a2-383f-4d1b-a061-2bdccbf6c300"
      },
      "execution_count": 1,
      "outputs": [
        {
          "output_type": "error",
          "ename": "KeyError",
          "evalue": "ignored",
          "traceback": [
            "\u001b[0;31m---------------------------------------------------------------------------\u001b[0m",
            "\u001b[0;31mKeyError\u001b[0m                                  Traceback (most recent call last)",
            "\u001b[0;32m<ipython-input-1-4252898b2cf5>\u001b[0m in \u001b[0;36m<module>\u001b[0;34m\u001b[0m\n\u001b[1;32m     13\u001b[0m \u001b[0msigla\u001b[0m \u001b[0;34m=\u001b[0m \u001b[0;34m'COLOCAR SIGLA DE ACTIVO ESTUDIADO'\u001b[0m\u001b[0;34m\u001b[0m\u001b[0;34m\u001b[0m\u001b[0m\n\u001b[1;32m     14\u001b[0m \u001b[0;34m\u001b[0m\u001b[0m\n\u001b[0;32m---> 15\u001b[0;31m \u001b[0mDatos\u001b[0m \u001b[0;34m=\u001b[0m \u001b[0minformacion\u001b[0m\u001b[0;34m(\u001b[0m\u001b[0msigla\u001b[0m\u001b[0;34m)\u001b[0m\u001b[0;34m\u001b[0m\u001b[0;34m\u001b[0m\u001b[0m\n\u001b[0m\u001b[1;32m     16\u001b[0m \u001b[0;34m\u001b[0m\u001b[0m\n\u001b[1;32m     17\u001b[0m \u001b[0;34m\u001b[0m\u001b[0m\n",
            "\u001b[0;32m<ipython-input-1-4252898b2cf5>\u001b[0m in \u001b[0;36minformacion\u001b[0;34m(simbolo)\u001b[0m\n\u001b[1;32m      8\u001b[0m     \u001b[0mapikey\u001b[0m \u001b[0;34m=\u001b[0m \u001b[0;34m'BUSCAR APIKEY EN LA PAGINA DE ALPHAVANTAGE'\u001b[0m\u001b[0;34m\u001b[0m\u001b[0;34m\u001b[0m\u001b[0m\n\u001b[1;32m      9\u001b[0m     \u001b[0murl\u001b[0m \u001b[0;34m=\u001b[0m \u001b[0;34mf\"https://www.alphavantage.co/query?function=TIME_SERIES_DAILY&symbol={symbol}&outputsize=full&apikey={apikey}&datatype=json\"\u001b[0m\u001b[0;34m\u001b[0m\u001b[0;34m\u001b[0m\u001b[0m\n\u001b[0;32m---> 10\u001b[0;31m     \u001b[0mresponse\u001b[0m \u001b[0;34m=\u001b[0m \u001b[0mrequests\u001b[0m\u001b[0;34m.\u001b[0m\u001b[0mget\u001b[0m\u001b[0;34m(\u001b[0m\u001b[0murl\u001b[0m\u001b[0;34m)\u001b[0m\u001b[0;34m.\u001b[0m\u001b[0mjson\u001b[0m\u001b[0;34m(\u001b[0m\u001b[0;34m)\u001b[0m\u001b[0;34m[\u001b[0m\u001b[0;34m'Time Series (Daily)'\u001b[0m\u001b[0;34m]\u001b[0m\u001b[0;31m#Cambiando Time Series escogen el tipo de serie que necesitan, diaria, mensual, anual, etc.\u001b[0m\u001b[0;34m\u001b[0m\u001b[0;34m\u001b[0m\u001b[0m\n\u001b[0m\u001b[1;32m     11\u001b[0m     \u001b[0;32mreturn\u001b[0m \u001b[0mpd\u001b[0m\u001b[0;34m.\u001b[0m\u001b[0mDataFrame\u001b[0m\u001b[0;34m.\u001b[0m\u001b[0mfrom_dict\u001b[0m\u001b[0;34m(\u001b[0m\u001b[0mresponse\u001b[0m\u001b[0;34m)\u001b[0m\u001b[0;34m\u001b[0m\u001b[0;34m\u001b[0m\u001b[0m\n\u001b[1;32m     12\u001b[0m \u001b[0;34m\u001b[0m\u001b[0m\n",
            "\u001b[0;31mKeyError\u001b[0m: 'Time Series (Daily)'"
          ]
        }
      ]
    },
    {
      "cell_type": "markdown",
      "source": [
        "## Deuda\n",
        "Describe activo(s), e.g., acciones comunes, preferentes y bonos relacionados, aplicando conceptos del capítulo 15 RWJ.\n",
        "\n",
        "Puede apoyarse en un gráfico\n",
        "\n"
      ],
      "metadata": {
        "id": "sPhResCqaixG"
      }
    },
    {
      "cell_type": "markdown",
      "source": [
        "## Emisión\n",
        "Describe proceso de emisión relacionado caracterizando el tipo de colocación en contraste con el procedimiento básico descrito en el capítulo RWJ 20"
      ],
      "metadata": {
        "id": "6yBPo42NappD"
      }
    },
    {
      "cell_type": "markdown",
      "source": [
        "## Derivados\n",
        "Describe un activo derivado relacionado y muestra datos de su evolución. Aplica procedimiento de valoración de un derivado por inclusión en estructura de retornos."
      ],
      "metadata": {
        "id": "aAzfmNqgasAG"
      }
    }
  ]
}