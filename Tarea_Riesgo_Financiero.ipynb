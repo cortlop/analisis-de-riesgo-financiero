{
  "nbformat": 4,
  "nbformat_minor": 0,
  "metadata": {
    "colab": {
      "provenance": [],
      "collapsed_sections": [],
      "include_colab_link": true
    },
    "kernelspec": {
      "name": "python3",
      "display_name": "Python 3"
    },
    "language_info": {
      "name": "python"
    }
  },
  "cells": [
    {
      "cell_type": "markdown",
      "metadata": {
        "id": "view-in-github",
        "colab_type": "text"
      },
      "source": [
        "<a href=\"https://colab.research.google.com/github/cortlop/analisis-de-riesgo-financiero/blob/main/Tarea_Riesgo_Financiero.ipynb\" target=\"_parent\"><img src=\"https://colab.research.google.com/assets/colab-badge.svg\" alt=\"Open In Colab\"/></a>"
      ]
    },
    {
      "cell_type": "markdown",
      "source": [
        "## Descripción del sector\n",
        "\n",
        "Los bienes inmuebles se definen como el terreno y cualquier estructura permanente, como una casa, ya sean naturales o hechas por el hombre.\n",
        "\n",
        "Los bienes raíces son una forma de propiedad real. Se diferencia de la propiedad personal, que no está adherida permanentemente a la tierra, como vehículos, botes, joyas, muebles y equipos agrícolas.\n"
      ],
      "metadata": {
        "id": "ySgJtrbEZo-L"
      }
    },
    {
      "cell_type": "markdown",
      "source": [
        "## Motivación\n",
        "El sector inmobiliario corresponde a unos de los sectores mas antiguos de inversion que pueden existir. Ya sea desde adquirir un pequeño pedazo de tierra, hasta la compra de edificios enteros. Siempre se ha considerado como uno de los activos mas seguros para invertir, si bien a pasado por diferentes crisis a lo largo de la historia.\n",
        " \n",
        "Siguiendo este ultimo punto, hoy en dia queremos analizar cuales son los riesgos asociados al mundo inmobiliario y como podemos tomarlos en cuenta para tomar una buena desición. \n"
      ],
      "metadata": {
        "id": "-FrHmyeUZ9HN"
      }
    },
    {
      "cell_type": "markdown",
      "source": [
        "# Contexto\n",
        "Las acciones e indice definidos para su estudio son los siguientes:\n",
        "\n",
        "Indice:\n",
        "Fidelity MSCI Real Estate Index ETF (FREL)\n",
        "\n",
        "Acciones: \n",
        "American Tower Corporation (AMT)\n",
        "\n",
        "Prologis, Inc (PLD)\n",
        "\n",
        "Estas acciones corresponden a las acciones con mayor peso en la composicion del portafolio del indice, por lo tanto serviran como un indicador clave para entender el comportamiento que tiene el indice elegido en el tiempo.\n",
        "\n",
        "*Falta hacer descripcion estadistica de las variables*"
      ],
      "metadata": {
        "id": "W3SdPx3KaDA7"
      }
    },
    {
      "cell_type": "code",
      "source": [
        "# Ingesta Datos y estadistica descriptiva\n",
        "\n",
        "import pandas as pd\n",
        "import requests\n",
        "\n",
        "def informacion (simbolo): #Función de llamado de API, devuelve los datos\n",
        "    symbol = simbolo\n",
        "    apikey = 'RVIUBF99VHZ0SSQ3'\n",
        "    url = f\"https://www.alphavantage.co/query?function=TIME_SERIES_DAILY&symbol={symbol}&outputsize=full&apikey={apikey}&datatype=json\"\n",
        "    response = requests.get(url).json()['Time Series (Daily)']#Cambiando Time Series escogen el tipo de serie que necesitan, diaria, mensual, anual, etc.\n",
        "    return pd.DataFrame.from_dict(response)\n",
        "\n",
        "sigla ='FREL'\n",
        "\n",
        "Datos = informacion(sigla)\n",
        "\n",
        "\n",
        "keys = list(Datos.keys())\n",
        "filteredKeys = []\n",
        "\n",
        "year_range=[2015, 2022] #Creación del rango de años a utilizar\n",
        "years = []\n",
        "for y in range(year_range[0], year_range[1]+1):\n",
        "    years.append(y)\n",
        "\n",
        "\n",
        "for key in keys: #Filtrar llaves según años que se quieren calcular\n",
        "    if int(key[:4]) >= years[0] and int(key[:4]) <= years[-1]:\n",
        "        filteredKeys.append(key)\n",
        "\n",
        "\n",
        "data = pd.DataFrame()\n",
        "\n",
        "\n",
        "\n",
        "for key in filteredKeys: #Crear un Dataframe con toda la informacio4n que se utilizará\n",
        "    for year in years:\n",
        "        if int(key[:4]) == year:\n",
        "            data[key] = Datos[key]\n",
        "\n",
        "\n",
        "\n",
        "data = data.transpose()\n",
        "print(data)\n"
      ],
      "metadata": {
        "id": "mh1MlFvjaexK",
        "colab": {
          "base_uri": "https://localhost:8080/"
        },
        "outputId": "e0ce2458-3993-464c-c47c-ddec372e251b"
      },
      "execution_count": null,
      "outputs": [
        {
          "output_type": "stream",
          "name": "stderr",
          "text": [
            "/usr/local/lib/python3.7/dist-packages/ipykernel_launcher.py:39: PerformanceWarning: DataFrame is highly fragmented.  This is usually the result of calling `frame.insert` many times, which has poor performance.  Consider joining all columns at once using pd.concat(axis=1) instead.  To get a de-fragmented frame, use `newframe = frame.copy()`\n"
          ]
        },
        {
          "output_type": "stream",
          "name": "stdout",
          "text": [
            "            1. open  2. high   3. low 4. close 5. volume\n",
            "2022-09-14  27.7400  27.7400  27.2500  27.4300    269436\n",
            "2022-09-13  28.3100  28.3427  27.6600  27.7400    233426\n",
            "2022-09-12  28.6800  28.9000  28.6800  28.8300    226294\n",
            "2022-09-09  28.4100  28.6600  28.2400  28.5800    208918\n",
            "2022-09-08  28.0300  28.3499  27.9700  28.2800    170836\n",
            "...             ...      ...      ...      ...       ...\n",
            "2015-02-11  24.3400  24.3400  23.8960  23.9800     31893\n",
            "2015-02-10  24.3000  24.3000  23.7900  24.0200     31474\n",
            "2015-02-09  24.3500  24.3500  23.9500  23.9500     26805\n",
            "2015-02-06  24.6900  24.6900  24.0000  24.0500     31750\n",
            "2015-02-05  24.4700  24.6800  24.4700  24.6700     23330\n",
            "\n",
            "[1916 rows x 5 columns]\n"
          ]
        }
      ]
    },
    {
      "cell_type": "markdown",
      "source": [
        "## Deuda\n",
        "Describe activo(s), e.g., acciones comunes, preferentes y bonos relacionados, aplicando conceptos del capítulo 15 RWJ.\n",
        "\n",
        "Puede apoyarse en un gráfico\n",
        "\n"
      ],
      "metadata": {
        "id": "sPhResCqaixG"
      }
    },
    {
      "cell_type": "markdown",
      "source": [
        "## Emisión\n",
        "Describe proceso de emisión relacionado caracterizando el tipo de colocación en contraste con el procedimiento básico descrito en el capítulo RWJ 20"
      ],
      "metadata": {
        "id": "6yBPo42NappD"
      }
    },
    {
      "cell_type": "markdown",
      "source": [
        "## Derivados\n",
        "Describe un activo derivado relacionado y muestra datos de su evolución. Aplica procedimiento de valoración de un derivado por inclusión en estructura de retornos."
      ],
      "metadata": {
        "id": "aAzfmNqgasAG"
      }
    }
  ]
}